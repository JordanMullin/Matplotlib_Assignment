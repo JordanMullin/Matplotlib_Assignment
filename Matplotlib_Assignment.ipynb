{
 "cells": [
  {
   "cell_type": "markdown",
   "metadata": {},
   "source": [
    "# Observations/Assumptions made pertaining to data:\n",
    "\n",
    "a) mice that died during the process was useless data because it wasnt complete and not correct to compare partial results to full results, (i.e. how do you represent the average tumour size over multiple time periods)\n",
    "\n",
    "b) that the mice did die because they removed it from the dataset, and would have included it to highlight the success if they were still alive,  \n",
    "c) it would be unfair to the reader of the work i am doing to have partial data represented in the graphs because it wouldnt show the complete trend the data is intended to hopefully provide and finally \n",
    "d) that the mice died from natural causes (or the tumour itself) or at the very least causes that could not be inextricably linked to the regimen it was being treated with, therefore not related to the success rate of the drug.\n",
    "e) all mice started with the same sized tumour (45mm3), therefore the best method of calculating which regimen was most successful would have been to calculate the average tumour size at the end of the period for each drug regimen and the lowest average would then represent the most successful results.\n",
    "f) because i did remove data for mice not reaching the end of the research period, I am aware that outliers may have been included in the dataset and were removed, but because of the above assumptions I dont believe they are truly outliers because they should not have been included in the analysis to begin with.\n"
   ]
  },
  {
   "cell_type": "code",
   "execution_count": 31,
   "metadata": {},
   "outputs": [
    {
     "data": {
      "text/html": [
       "<div>\n",
       "<style scoped>\n",
       "    .dataframe tbody tr th:only-of-type {\n",
       "        vertical-align: middle;\n",
       "    }\n",
       "\n",
       "    .dataframe tbody tr th {\n",
       "        vertical-align: top;\n",
       "    }\n",
       "\n",
       "    .dataframe thead th {\n",
       "        text-align: right;\n",
       "    }\n",
       "</style>\n",
       "<table border=\"1\" class=\"dataframe\">\n",
       "  <thead>\n",
       "    <tr style=\"text-align: right;\">\n",
       "      <th></th>\n",
       "      <th>Mouse ID</th>\n",
       "      <th>Drug Regimen</th>\n",
       "      <th>Sex</th>\n",
       "      <th>Age_months</th>\n",
       "      <th>Weight (g)</th>\n",
       "      <th>Timepoint</th>\n",
       "      <th>Tumor Volume (mm3)</th>\n",
       "      <th>Metastatic Sites</th>\n",
       "    </tr>\n",
       "  </thead>\n",
       "  <tbody>\n",
       "    <tr>\n",
       "      <td>0</td>\n",
       "      <td>k403</td>\n",
       "      <td>Ramicane</td>\n",
       "      <td>Male</td>\n",
       "      <td>21</td>\n",
       "      <td>16</td>\n",
       "      <td>0</td>\n",
       "      <td>45.000000</td>\n",
       "      <td>0</td>\n",
       "    </tr>\n",
       "    <tr>\n",
       "      <td>1</td>\n",
       "      <td>k403</td>\n",
       "      <td>Ramicane</td>\n",
       "      <td>Male</td>\n",
       "      <td>21</td>\n",
       "      <td>16</td>\n",
       "      <td>5</td>\n",
       "      <td>38.825898</td>\n",
       "      <td>0</td>\n",
       "    </tr>\n",
       "    <tr>\n",
       "      <td>2</td>\n",
       "      <td>k403</td>\n",
       "      <td>Ramicane</td>\n",
       "      <td>Male</td>\n",
       "      <td>21</td>\n",
       "      <td>16</td>\n",
       "      <td>10</td>\n",
       "      <td>35.014271</td>\n",
       "      <td>1</td>\n",
       "    </tr>\n",
       "    <tr>\n",
       "      <td>3</td>\n",
       "      <td>k403</td>\n",
       "      <td>Ramicane</td>\n",
       "      <td>Male</td>\n",
       "      <td>21</td>\n",
       "      <td>16</td>\n",
       "      <td>15</td>\n",
       "      <td>34.223992</td>\n",
       "      <td>1</td>\n",
       "    </tr>\n",
       "    <tr>\n",
       "      <td>4</td>\n",
       "      <td>k403</td>\n",
       "      <td>Ramicane</td>\n",
       "      <td>Male</td>\n",
       "      <td>21</td>\n",
       "      <td>16</td>\n",
       "      <td>20</td>\n",
       "      <td>32.997729</td>\n",
       "      <td>1</td>\n",
       "    </tr>\n",
       "  </tbody>\n",
       "</table>\n",
       "</div>"
      ],
      "text/plain": [
       "  Mouse ID Drug Regimen   Sex  Age_months  Weight (g)  Timepoint  \\\n",
       "0     k403     Ramicane  Male          21          16          0   \n",
       "1     k403     Ramicane  Male          21          16          5   \n",
       "2     k403     Ramicane  Male          21          16         10   \n",
       "3     k403     Ramicane  Male          21          16         15   \n",
       "4     k403     Ramicane  Male          21          16         20   \n",
       "\n",
       "   Tumor Volume (mm3)  Metastatic Sites  \n",
       "0           45.000000                 0  \n",
       "1           38.825898                 0  \n",
       "2           35.014271                 1  \n",
       "3           34.223992                 1  \n",
       "4           32.997729                 1  "
      ]
     },
     "execution_count": 31,
     "metadata": {},
     "output_type": "execute_result"
    }
   ],
   "source": [
    "# Dependencies and Setup\n",
    "import matplotlib.pyplot as plt\n",
    "import pandas as pd\n",
    "import scipy.stats as st\n",
    "import numpy as np\n",
    "from sklearn import datasets \n",
    "from scipy.stats import linregress\n",
    "\n",
    "# Study data files\n",
    "mouse_metadata = \"data/Mouse_metadata.csv\"\n",
    "study_results = \"data/Study_results.csv\"\n",
    "\n",
    "# Read the mouse data and the study results\n",
    "mouse_metadata = pd.read_csv(mouse_metadata)\n",
    "study_results = pd.read_csv(study_results)\n",
    "\n",
    "# Combine the data into a single dataset\n",
    "data_df = pd.merge(mouse_metadata, study_results, on=\"Mouse ID\")\n",
    "data_df.head()"
   ]
  },
  {
   "cell_type": "code",
   "execution_count": 32,
   "metadata": {
    "scrolled": true
   },
   "outputs": [
    {
     "name": "stdout",
     "output_type": "stream",
     "text": [
      "['Ramicane' 'Capomulin' 'Infubinol' 'Placebo' 'Ceftamin' 'Stelasyn'\n",
      " 'Zoniferol' 'Ketapril' 'Propriva' 'Naftisol']\n"
     ]
    }
   ],
   "source": [
    "# Generate a summary statistics table of mean, median, variance, standard deviation, and SEM of the tumor volume for each regimen\n",
    "regimen_list = data_df[\"Drug Regimen\"].unique()\n",
    "print(regimen_list)"
   ]
  },
  {
   "cell_type": "code",
   "execution_count": 33,
   "metadata": {},
   "outputs": [],
   "source": [
    "#remove rows for which the timepoint is not final (Timepoint == 45)\n",
    "regimen_final_time = data_df.copy()\n",
    "regimen_final_time = regimen_final_time.loc[regimen_final_time[\"Timepoint\"] == 45, :]\n",
    "regimen_group_time = regimen_final_time.groupby(\"Drug Regimen\")"
   ]
  },
  {
   "cell_type": "code",
   "execution_count": 34,
   "metadata": {},
   "outputs": [],
   "source": [
    "stat_1 = regimen_group_time.get_group(regimen_list[0])\n",
    "stat_2 = regimen_group_time.get_group(regimen_list[1])\n",
    "stat_3 = regimen_group_time.get_group(regimen_list[2])\n",
    "stat_4 = regimen_group_time.get_group(regimen_list[3])\n",
    "stat_5 = regimen_group_time.get_group(regimen_list[4])\n",
    "stat_6 = regimen_group_time.get_group(regimen_list[5])\n",
    "stat_7 = regimen_group_time.get_group(regimen_list[6])\n",
    "stat_8 = regimen_group_time.get_group(regimen_list[7])\n",
    "stat_9 = regimen_group_time.get_group(regimen_list[8])\n",
    "stat_10 = regimen_group_time.get_group(regimen_list[9])\n",
    "\n",
    "\n",
    "stat_1 = stat_1.drop(columns=[\"Sex\", \"Age_months\", \"Weight (g)\", \"Timepoint\", \"Metastatic Sites\"])\n",
    "stat_2 = stat_2.drop(columns=[\"Sex\", \"Age_months\", \"Weight (g)\", \"Timepoint\", \"Metastatic Sites\"])\n",
    "stat_3 = stat_3.drop(columns=[\"Sex\", \"Age_months\", \"Weight (g)\", \"Timepoint\", \"Metastatic Sites\"])\n",
    "stat_4 = stat_4.drop(columns=[\"Sex\", \"Age_months\", \"Weight (g)\", \"Timepoint\", \"Metastatic Sites\"])\n",
    "stat_5 = stat_5.drop(columns=[\"Sex\", \"Age_months\", \"Weight (g)\", \"Timepoint\", \"Metastatic Sites\"])\n",
    "stat_6 = stat_6.drop(columns=[\"Sex\", \"Age_months\", \"Weight (g)\", \"Timepoint\", \"Metastatic Sites\"])\n",
    "stat_7 = stat_7.drop(columns=[\"Sex\", \"Age_months\", \"Weight (g)\", \"Timepoint\", \"Metastatic Sites\"])\n",
    "stat_8 = stat_8.drop(columns=[\"Sex\", \"Age_months\", \"Weight (g)\", \"Timepoint\", \"Metastatic Sites\"])\n",
    "stat_9 = stat_9.drop(columns=[\"Sex\", \"Age_months\", \"Weight (g)\", \"Timepoint\", \"Metastatic Sites\"])\n",
    "stat_10 = stat_10.drop(columns=[\"Sex\", \"Age_months\", \"Weight (g)\", \"Timepoint\", \"Metastatic Sites\"])\n",
    "\n",
    "final_reg_df = pd.concat([stat_1, stat_2, stat_3, stat_4, stat_5, stat_6, stat_7, stat_8, stat_9, stat_10])"
   ]
  },
  {
   "cell_type": "code",
   "execution_count": 35,
   "metadata": {},
   "outputs": [],
   "source": [
    "reg1_sum = stat_1[\"Tumor Volume (mm3)\"].sum()\n",
    "reg1_mean = stat_1[\"Tumor Volume (mm3)\"].mean()\n",
    "reg1_median = stat_1[\"Tumor Volume (mm3)\"].median()\n",
    "reg1_var = stat_1[\"Tumor Volume (mm3)\"].var()\n",
    "reg1_std = stat_1[\"Tumor Volume (mm3)\"].std()\n",
    "reg1_sem = stat_1[\"Tumor Volume (mm3)\"].sem()\n",
    "\n",
    "reg2_sum = stat_2[\"Tumor Volume (mm3)\"].sum()\n",
    "reg2_mean = stat_2[\"Tumor Volume (mm3)\"].mean()\n",
    "reg2_median = stat_2[\"Tumor Volume (mm3)\"].median()\n",
    "reg2_var = stat_2[\"Tumor Volume (mm3)\"].var()\n",
    "reg2_std = stat_2[\"Tumor Volume (mm3)\"].std()\n",
    "reg2_sem = stat_2[\"Tumor Volume (mm3)\"].sem()\n",
    "\n",
    "reg3_sum = stat_3[\"Tumor Volume (mm3)\"].sum()\n",
    "reg3_mean = stat_3[\"Tumor Volume (mm3)\"].mean()\n",
    "reg3_median = stat_3[\"Tumor Volume (mm3)\"].median()\n",
    "reg3_var = stat_3[\"Tumor Volume (mm3)\"].var()\n",
    "reg3_std = stat_3[\"Tumor Volume (mm3)\"].std()\n",
    "reg3_sem = stat_3[\"Tumor Volume (mm3)\"].sem()\n",
    "\n",
    "reg4_sum = stat_4[\"Tumor Volume (mm3)\"].sum()\n",
    "reg4_mean = stat_4[\"Tumor Volume (mm3)\"].mean()\n",
    "reg4_median = stat_4[\"Tumor Volume (mm3)\"].median()\n",
    "reg4_var = stat_4[\"Tumor Volume (mm3)\"].var()\n",
    "reg4_std = stat_4[\"Tumor Volume (mm3)\"].std()\n",
    "reg4_sem = stat_4[\"Tumor Volume (mm3)\"].sem()\n",
    "\n",
    "reg5_sum = stat_5[\"Tumor Volume (mm3)\"].sum()\n",
    "reg5_mean = stat_5[\"Tumor Volume (mm3)\"].mean()\n",
    "reg5_median = stat_5[\"Tumor Volume (mm3)\"].median()\n",
    "reg5_var = stat_5[\"Tumor Volume (mm3)\"].var()\n",
    "reg5_std = stat_5[\"Tumor Volume (mm3)\"].std()\n",
    "reg5_sem = stat_5[\"Tumor Volume (mm3)\"].sem()\n",
    "\n",
    "reg6_sum = stat_6[\"Tumor Volume (mm3)\"].sum()\n",
    "reg6_mean = stat_6[\"Tumor Volume (mm3)\"].mean()\n",
    "reg6_median = stat_6[\"Tumor Volume (mm3)\"].median()\n",
    "reg6_var = stat_6[\"Tumor Volume (mm3)\"].var()\n",
    "reg6_std = stat_6[\"Tumor Volume (mm3)\"].std()\n",
    "reg6_sem = stat_6[\"Tumor Volume (mm3)\"].sem()\n",
    "\n",
    "reg7_sum = stat_7[\"Tumor Volume (mm3)\"].sum()\n",
    "reg7_mean = stat_7[\"Tumor Volume (mm3)\"].mean()\n",
    "reg7_median = stat_7[\"Tumor Volume (mm3)\"].median()\n",
    "reg7_var = stat_7[\"Tumor Volume (mm3)\"].var()\n",
    "reg7_std = stat_7[\"Tumor Volume (mm3)\"].std()\n",
    "reg7_sem = stat_7[\"Tumor Volume (mm3)\"].sem()\n",
    "\n",
    "reg8_sum = stat_8[\"Tumor Volume (mm3)\"].sum()\n",
    "reg8_mean = stat_8[\"Tumor Volume (mm3)\"].mean()\n",
    "reg8_median = stat_8[\"Tumor Volume (mm3)\"].median()\n",
    "reg8_var = stat_8[\"Tumor Volume (mm3)\"].var()\n",
    "reg8_std = stat_8[\"Tumor Volume (mm3)\"].std()\n",
    "reg8_sem = stat_8[\"Tumor Volume (mm3)\"].sem()\n",
    "\n",
    "reg9_sum = stat_9[\"Tumor Volume (mm3)\"].sum()\n",
    "reg9_mean = stat_9[\"Tumor Volume (mm3)\"].mean()\n",
    "reg9_median = stat_9[\"Tumor Volume (mm3)\"].median()\n",
    "reg9_var = stat_9[\"Tumor Volume (mm3)\"].var()\n",
    "reg9_std = stat_9[\"Tumor Volume (mm3)\"].std()\n",
    "reg9_sem = stat_9[\"Tumor Volume (mm3)\"].sem()\n",
    "\n",
    "reg10_sum = stat_10[\"Tumor Volume (mm3)\"].sum()\n",
    "reg10_mean = stat_10[\"Tumor Volume (mm3)\"].mean()\n",
    "reg10_median = stat_10[\"Tumor Volume (mm3)\"].median()\n",
    "reg10_var = stat_10[\"Tumor Volume (mm3)\"].var()\n",
    "reg10_std = stat_10[\"Tumor Volume (mm3)\"].std()\n",
    "reg10_sem = stat_10[\"Tumor Volume (mm3)\"].sem()"
   ]
  },
  {
   "cell_type": "code",
   "execution_count": 36,
   "metadata": {},
   "outputs": [],
   "source": [
    "stat_table = pd.DataFrame({\n",
    "    \"mean\" : [reg1_mean, reg2_mean, reg3_mean, reg4_mean,reg5_mean, reg6_mean,reg7_mean, reg8_mean,reg9_mean, reg10_mean],\n",
    "    \"median\" : [reg1_median, reg2_median, reg3_median, reg4_median, reg5_median, reg6_median, reg7_median, reg8_median, reg9_median, reg10_median],\n",
    "    \"Variance\" : [reg1_var, reg2_var, reg3_var, reg4_var, reg5_var, reg6_var, reg7_var, reg8_var, reg9_var, reg10_var],\n",
    "    \"Standard Deviation\" : [reg1_std, reg2_std, reg3_std, reg4_std, reg5_std, reg6_std, reg7_std, reg8_std, reg9_std, reg10_std],\n",
    "    \"SEM\": [reg1_sem, reg2_sem, reg3_sem, reg4_sem, reg5_sem, reg6_sem, reg7_sem, reg8_sem, reg9_sem, reg10_sem],\n",
    "    \"Count\": [len(stat_1), len(stat_2), len(stat_3), len(stat_4), len(stat_5), len(stat_6), len(stat_7), len(stat_8), len(stat_9), len(stat_10), ]\n",
    "},\n",
    "    index = [regimen_list[0], regimen_list[1],regimen_list[2], regimen_list[3],regimen_list[4], regimen_list[5],regimen_list[6], regimen_list[7],regimen_list[8], regimen_list[9]])\n"
   ]
  },
  {
   "cell_type": "code",
   "execution_count": 37,
   "metadata": {},
   "outputs": [
    {
     "data": {
      "text/html": [
       "<div>\n",
       "<style scoped>\n",
       "    .dataframe tbody tr th:only-of-type {\n",
       "        vertical-align: middle;\n",
       "    }\n",
       "\n",
       "    .dataframe tbody tr th {\n",
       "        vertical-align: top;\n",
       "    }\n",
       "\n",
       "    .dataframe thead th {\n",
       "        text-align: right;\n",
       "    }\n",
       "</style>\n",
       "<table border=\"1\" class=\"dataframe\">\n",
       "  <thead>\n",
       "    <tr style=\"text-align: right;\">\n",
       "      <th></th>\n",
       "      <th>mean</th>\n",
       "      <th>median</th>\n",
       "      <th>Variance</th>\n",
       "      <th>Standard Deviation</th>\n",
       "      <th>SEM</th>\n",
       "      <th>Count</th>\n",
       "    </tr>\n",
       "  </thead>\n",
       "  <tbody>\n",
       "    <tr>\n",
       "      <td>Ramicane</td>\n",
       "      <td>34.955595</td>\n",
       "      <td>34.848627</td>\n",
       "      <td>30.101010</td>\n",
       "      <td>5.486439</td>\n",
       "      <td>1.226805</td>\n",
       "      <td>20</td>\n",
       "    </tr>\n",
       "    <tr>\n",
       "      <td>Capomulin</td>\n",
       "      <td>36.236114</td>\n",
       "      <td>37.311846</td>\n",
       "      <td>31.460537</td>\n",
       "      <td>5.608969</td>\n",
       "      <td>1.223977</td>\n",
       "      <td>21</td>\n",
       "    </tr>\n",
       "    <tr>\n",
       "      <td>Infubinol</td>\n",
       "      <td>65.755562</td>\n",
       "      <td>66.083066</td>\n",
       "      <td>11.787426</td>\n",
       "      <td>3.433282</td>\n",
       "      <td>1.144427</td>\n",
       "      <td>9</td>\n",
       "    </tr>\n",
       "    <tr>\n",
       "      <td>Placebo</td>\n",
       "      <td>68.084082</td>\n",
       "      <td>69.042841</td>\n",
       "      <td>20.098783</td>\n",
       "      <td>4.483167</td>\n",
       "      <td>1.351726</td>\n",
       "      <td>11</td>\n",
       "    </tr>\n",
       "    <tr>\n",
       "      <td>Ceftamin</td>\n",
       "      <td>64.132421</td>\n",
       "      <td>64.299830</td>\n",
       "      <td>10.585242</td>\n",
       "      <td>3.253497</td>\n",
       "      <td>0.902358</td>\n",
       "      <td>13</td>\n",
       "    </tr>\n",
       "    <tr>\n",
       "      <td>Stelasyn</td>\n",
       "      <td>68.438310</td>\n",
       "      <td>69.299149</td>\n",
       "      <td>27.340818</td>\n",
       "      <td>5.228845</td>\n",
       "      <td>1.576556</td>\n",
       "      <td>11</td>\n",
       "    </tr>\n",
       "    <tr>\n",
       "      <td>Zoniferol</td>\n",
       "      <td>65.960888</td>\n",
       "      <td>65.684689</td>\n",
       "      <td>14.100301</td>\n",
       "      <td>3.755037</td>\n",
       "      <td>1.003576</td>\n",
       "      <td>14</td>\n",
       "    </tr>\n",
       "    <tr>\n",
       "      <td>Ketapril</td>\n",
       "      <td>70.662958</td>\n",
       "      <td>69.872251</td>\n",
       "      <td>23.229260</td>\n",
       "      <td>4.819674</td>\n",
       "      <td>1.453186</td>\n",
       "      <td>11</td>\n",
       "    </tr>\n",
       "    <tr>\n",
       "      <td>Propriva</td>\n",
       "      <td>66.258529</td>\n",
       "      <td>64.957562</td>\n",
       "      <td>24.967290</td>\n",
       "      <td>4.996728</td>\n",
       "      <td>1.888586</td>\n",
       "      <td>7</td>\n",
       "    </tr>\n",
       "    <tr>\n",
       "      <td>Naftisol</td>\n",
       "      <td>69.265506</td>\n",
       "      <td>69.563621</td>\n",
       "      <td>26.079104</td>\n",
       "      <td>5.106770</td>\n",
       "      <td>1.416363</td>\n",
       "      <td>13</td>\n",
       "    </tr>\n",
       "  </tbody>\n",
       "</table>\n",
       "</div>"
      ],
      "text/plain": [
       "                mean     median   Variance  Standard Deviation       SEM  \\\n",
       "Ramicane   34.955595  34.848627  30.101010            5.486439  1.226805   \n",
       "Capomulin  36.236114  37.311846  31.460537            5.608969  1.223977   \n",
       "Infubinol  65.755562  66.083066  11.787426            3.433282  1.144427   \n",
       "Placebo    68.084082  69.042841  20.098783            4.483167  1.351726   \n",
       "Ceftamin   64.132421  64.299830  10.585242            3.253497  0.902358   \n",
       "Stelasyn   68.438310  69.299149  27.340818            5.228845  1.576556   \n",
       "Zoniferol  65.960888  65.684689  14.100301            3.755037  1.003576   \n",
       "Ketapril   70.662958  69.872251  23.229260            4.819674  1.453186   \n",
       "Propriva   66.258529  64.957562  24.967290            4.996728  1.888586   \n",
       "Naftisol   69.265506  69.563621  26.079104            5.106770  1.416363   \n",
       "\n",
       "           Count  \n",
       "Ramicane      20  \n",
       "Capomulin     21  \n",
       "Infubinol      9  \n",
       "Placebo       11  \n",
       "Ceftamin      13  \n",
       "Stelasyn      11  \n",
       "Zoniferol     14  \n",
       "Ketapril      11  \n",
       "Propriva       7  \n",
       "Naftisol      13  "
      ]
     },
     "execution_count": 37,
     "metadata": {},
     "output_type": "execute_result"
    }
   ],
   "source": [
    "# Generate a summary statistics table of mean, median, variance, standard deviation, \n",
    "# and SEM of the tumor volume for each regimen\n",
    "stat_table\n"
   ]
  },
  {
   "cell_type": "code",
   "execution_count": 38,
   "metadata": {},
   "outputs": [
    {
     "data": {
      "text/plain": [
       "Text(0.5, 1.0, 'Count of Mice per Regimen')"
      ]
     },
     "execution_count": 38,
     "metadata": {},
     "output_type": "execute_result"
    },
    {
     "data": {
      "image/png": "[encoded data removed]",
      "text/plain": [
       "<Figure size 432x288 with 1 Axes>"
      ]
     },
     "metadata": {
      "needs_background": "light"
     },
     "output_type": "display_data"
    }
   ],
   "source": [
    "# Generate a bar plot showing number of data points for each treatment regimen using pandas\n",
    "# DATA SET\n",
    "stat_table.plot.bar(y=\"Count\", color='Red', rot=60)\n",
    "plt.ylabel(\"Count of Mice\")\n",
    "plt.xlabel(\"Regimen Name\")\n",
    "plt.title(\"Count of Mice per Regimen\")"
   ]
  },
  {
   "cell_type": "code",
   "execution_count": 39,
   "metadata": {},
   "outputs": [
    {
     "data": {
      "text/plain": [
       "(array([0, 1, 2, 3, 4, 5, 6, 7, 8, 9]), <a list of 10 Text xticklabel objects>)"
      ]
     },
     "execution_count": 39,
     "metadata": {},
     "output_type": "execute_result"
    },
    {
     "data": {
      "image/png": "[encoded data removed]",
      "text/plain": [
       "<Figure size 432x288 with 1 Axes>"
      ]
     },
     "metadata": {
      "needs_background": "light"
     },
     "output_type": "display_data"
    }
   ],
   "source": [
    "# Generate a bar plot showing number of data points for each treatment regimen using pyplot\n",
    "Drugs = regimen_list\n",
    "Tumour_Volume = stat_table[\"Count\"]\n",
    "x_axis = np.arange(0, len(Drugs))\n",
    "tick_locations = []\n",
    "for x in x_axis:\n",
    "    tick_locations.append(x)\n",
    "\n",
    "\n",
    "plt.bar(x_axis, Tumour_Volume, facecolor=\"red\", alpha=.75, align=\"center\")\n",
    "plt.xticks(tick_locations, Drugs)\n",
    "plt.title(\"Count of Mice per Treatment Regimen\")\n",
    "plt.xlabel(\"Regimen Name\")\n",
    "plt.ylabel(\"Count of Mice\")\n",
    "plt.xticks(rotation=45)"
   ]
  },
  {
   "cell_type": "code",
   "execution_count": 40,
   "metadata": {},
   "outputs": [],
   "source": [
    "# extracting gender groups for the mice at the beggining and end of the study\n",
    "gender_df_beg = data_df.copy()\n",
    "gender_df_beg = data_df.loc[data_df[\"Timepoint\"] == 0, :]\n",
    "\n",
    "gender_df_end = data_df.copy()\n",
    "gender_df_end = data_df.loc[data_df[\"Timepoint\"] == 45, :]\n",
    "\n",
    "gender_df_beg = gender_df_beg.groupby(\"Sex\")\n",
    "male_mice_beg = gender_df_beg[\"Mouse ID\"].get_group(\"Male\").count()\n",
    "female_mice_beg = gender_df_beg[\"Mouse ID\"].get_group(\"Female\").count()\n",
    "\n",
    "gender_df_end = gender_df_end.groupby(\"Sex\")\n",
    "male_mice_end = gender_df_end[\"Mouse ID\"].get_group(\"Male\").count()\n",
    "female_mice_end = gender_df_end[\"Mouse ID\"].get_group(\"Female\").count()"
   ]
  },
  {
   "cell_type": "code",
   "execution_count": 41,
   "metadata": {},
   "outputs": [
    {
     "data": {
      "image/png": "[encoded data removed]",
      "text/plain": [
       "<Figure size 360x360 with 1 Axes>"
      ]
     },
     "metadata": {},
     "output_type": "display_data"
    },
    {
     "data": {
      "image/png": "[encoded data removed]",
      "text/plain": [
       "<Figure size 360x360 with 1 Axes>"
      ]
     },
     "metadata": {},
     "output_type": "display_data"
    }
   ],
   "source": [
    "# Generate a pie plot showing the distribution of female versus male mice using pandas\n",
    "gender_pie_beg = pd.DataFrame({\n",
    "    \" \":[male_mice_beg, female_mice_beg]},\n",
    "    index=[\"Male at Start\", \"Female at Start\"])\n",
    "gender_pie_beg_plot = gender_pie_beg.plot.pie(y=\" \", figsize=(5, 5), rot=90)\n",
    "\n",
    "\n",
    "gender_pie_end = pd.DataFrame({\n",
    "    \" \":[male_mice_end, female_mice_end]},\n",
    "    index=[\"Male at End\", \"Female at End\"])\n",
    "gender_pie_end_plot = gender_pie_end.plot.pie(y=\" \", figsize=(5, 5), rot=90)"
   ]
  },
  {
   "cell_type": "code",
   "execution_count": 42,
   "metadata": {},
   "outputs": [
    {
     "data": {
      "text/plain": [
       "Text(0.5, 1.0, 'Gender Portions at Start of Research Period')"
      ]
     },
     "execution_count": 42,
     "metadata": {},
     "output_type": "execute_result"
    },
    {
     "data": {
      "image/png": "[encoded data removed]",
      "text/plain": [
       "<Figure size 432x288 with 1 Axes>"
      ]
     },
     "metadata": {},
     "output_type": "display_data"
    }
   ],
   "source": [
    "# Generate a pie plot showing the distribution of female versus male mice using pyplot\n",
    "Gender_beg = (\"Male at Start\", \"Female at Start\")\n",
    "Gender_Portion_beg = (male_mice_beg, female_mice_beg)\n",
    "colors= (\"SkyBlue\", \"Pink\")\n",
    "\n",
    "plt.pie(Gender_Portion_beg, labels=Gender_beg, colors=colors, autopct=\"%1.1f%%\",startangle=90)\n",
    "plt.title(\"Gender Portions at Start of Research Period\")"
   ]
  },
  {
   "cell_type": "code",
   "execution_count": 43,
   "metadata": {},
   "outputs": [
    {
     "data": {
      "text/plain": [
       "Text(0.5, 1.0, 'Gender Portions at End of Research Period')"
      ]
     },
     "execution_count": 43,
     "metadata": {},
     "output_type": "execute_result"
    },
    {
     "data": {
      "image/png": "[encoded data removed]",
      "text/plain": [
       "<Figure size 432x288 with 1 Axes>"
      ]
     },
     "metadata": {},
     "output_type": "display_data"
    }
   ],
   "source": [
    "Gender_end = (\"Male at End\", \"Female at End\")\n",
    "Gender_Portion_end = (male_mice_end, female_mice_end)\n",
    "colors= (\"SkyBlue\", \"Pink\")\n",
    "\n",
    "plt.pie(Gender_Portion_end, labels=Gender_end, colors=colors, autopct=\"%1.1f%%\",startangle=90)\n",
    "plt.title(\"Gender Portions at End of Research Period\")"
   ]
  },
  {
   "cell_type": "code",
   "execution_count": 44,
   "metadata": {},
   "outputs": [
    {
     "name": "stdout",
     "output_type": "stream",
     "text": [
      "Ramicane     34.955595\n",
      "Capomulin    36.236114\n",
      "Ceftamin     64.132421\n",
      "Infubinol    65.755562\n",
      "Name: mean, dtype: float64\n"
     ]
    }
   ],
   "source": [
    "#finding the most promising treatment regimens\n",
    "best_reg = stat_table[\"mean\"].nsmallest(4)\n",
    "print(best_reg)\n"
   ]
  },
  {
   "cell_type": "code",
   "execution_count": 45,
   "metadata": {},
   "outputs": [
    {
     "data": {
      "text/html": [
       "<div>\n",
       "<style scoped>\n",
       "    .dataframe tbody tr th:only-of-type {\n",
       "        vertical-align: middle;\n",
       "    }\n",
       "\n",
       "    .dataframe tbody tr th {\n",
       "        vertical-align: top;\n",
       "    }\n",
       "\n",
       "    .dataframe thead th {\n",
       "        text-align: right;\n",
       "    }\n",
       "</style>\n",
       "<table border=\"1\" class=\"dataframe\">\n",
       "  <thead>\n",
       "    <tr style=\"text-align: right;\">\n",
       "      <th></th>\n",
       "      <th>Mouse ID</th>\n",
       "      <th>Drug Regimen</th>\n",
       "      <th>Tumor Volume (mm3)</th>\n",
       "    </tr>\n",
       "  </thead>\n",
       "  <tbody>\n",
       "    <tr>\n",
       "      <td>9</td>\n",
       "      <td>k403</td>\n",
       "      <td>Ramicane</td>\n",
       "      <td>22.050126</td>\n",
       "    </tr>\n",
       "    <tr>\n",
       "      <td>49</td>\n",
       "      <td>g791</td>\n",
       "      <td>Ramicane</td>\n",
       "      <td>29.128472</td>\n",
       "    </tr>\n",
       "    <tr>\n",
       "      <td>59</td>\n",
       "      <td>s508</td>\n",
       "      <td>Ramicane</td>\n",
       "      <td>30.276232</td>\n",
       "    </tr>\n",
       "    <tr>\n",
       "      <td>74</td>\n",
       "      <td>m546</td>\n",
       "      <td>Ramicane</td>\n",
       "      <td>30.564625</td>\n",
       "    </tr>\n",
       "    <tr>\n",
       "      <td>84</td>\n",
       "      <td>z578</td>\n",
       "      <td>Ramicane</td>\n",
       "      <td>30.638696</td>\n",
       "    </tr>\n",
       "    <tr>\n",
       "      <td>19</td>\n",
       "      <td>s185</td>\n",
       "      <td>Capomulin</td>\n",
       "      <td>23.343598</td>\n",
       "    </tr>\n",
       "    <tr>\n",
       "      <td>29</td>\n",
       "      <td>x401</td>\n",
       "      <td>Capomulin</td>\n",
       "      <td>28.484033</td>\n",
       "    </tr>\n",
       "    <tr>\n",
       "      <td>39</td>\n",
       "      <td>m601</td>\n",
       "      <td>Capomulin</td>\n",
       "      <td>28.430964</td>\n",
       "    </tr>\n",
       "    <tr>\n",
       "      <td>104</td>\n",
       "      <td>u364</td>\n",
       "      <td>Capomulin</td>\n",
       "      <td>31.023923</td>\n",
       "    </tr>\n",
       "    <tr>\n",
       "      <td>124</td>\n",
       "      <td>y793</td>\n",
       "      <td>Capomulin</td>\n",
       "      <td>31.896238</td>\n",
       "    </tr>\n",
       "    <tr>\n",
       "      <td>463</td>\n",
       "      <td>a203</td>\n",
       "      <td>Infubinol</td>\n",
       "      <td>67.973419</td>\n",
       "    </tr>\n",
       "    <tr>\n",
       "      <td>473</td>\n",
       "      <td>a251</td>\n",
       "      <td>Infubinol</td>\n",
       "      <td>65.525743</td>\n",
       "    </tr>\n",
       "    <tr>\n",
       "      <td>540</td>\n",
       "      <td>a685</td>\n",
       "      <td>Infubinol</td>\n",
       "      <td>66.083066</td>\n",
       "    </tr>\n",
       "    <tr>\n",
       "      <td>637</td>\n",
       "      <td>c139</td>\n",
       "      <td>Infubinol</td>\n",
       "      <td>72.226731</td>\n",
       "    </tr>\n",
       "    <tr>\n",
       "      <td>800</td>\n",
       "      <td>e476</td>\n",
       "      <td>Infubinol</td>\n",
       "      <td>62.435404</td>\n",
       "    </tr>\n",
       "    <tr>\n",
       "      <td>493</td>\n",
       "      <td>a275</td>\n",
       "      <td>Ceftamin</td>\n",
       "      <td>62.999356</td>\n",
       "    </tr>\n",
       "    <tr>\n",
       "      <td>993</td>\n",
       "      <td>j296</td>\n",
       "      <td>Ceftamin</td>\n",
       "      <td>61.849023</td>\n",
       "    </tr>\n",
       "    <tr>\n",
       "      <td>1033</td>\n",
       "      <td>k210</td>\n",
       "      <td>Ceftamin</td>\n",
       "      <td>68.923185</td>\n",
       "    </tr>\n",
       "    <tr>\n",
       "      <td>1112</td>\n",
       "      <td>l471</td>\n",
       "      <td>Ceftamin</td>\n",
       "      <td>67.748662</td>\n",
       "    </tr>\n",
       "    <tr>\n",
       "      <td>1132</td>\n",
       "      <td>l661</td>\n",
       "      <td>Ceftamin</td>\n",
       "      <td>59.851956</td>\n",
       "    </tr>\n",
       "  </tbody>\n",
       "</table>\n",
       "</div>"
      ],
      "text/plain": [
       "     Mouse ID Drug Regimen  Tumor Volume (mm3)\n",
       "9        k403     Ramicane           22.050126\n",
       "49       g791     Ramicane           29.128472\n",
       "59       s508     Ramicane           30.276232\n",
       "74       m546     Ramicane           30.564625\n",
       "84       z578     Ramicane           30.638696\n",
       "19       s185    Capomulin           23.343598\n",
       "29       x401    Capomulin           28.484033\n",
       "39       m601    Capomulin           28.430964\n",
       "104      u364    Capomulin           31.023923\n",
       "124      y793    Capomulin           31.896238\n",
       "463      a203    Infubinol           67.973419\n",
       "473      a251    Infubinol           65.525743\n",
       "540      a685    Infubinol           66.083066\n",
       "637      c139    Infubinol           72.226731\n",
       "800      e476    Infubinol           62.435404\n",
       "493      a275     Ceftamin           62.999356\n",
       "993      j296     Ceftamin           61.849023\n",
       "1033     k210     Ceftamin           68.923185\n",
       "1112     l471     Ceftamin           67.748662\n",
       "1132     l661     Ceftamin           59.851956"
      ]
     },
     "execution_count": 45,
     "metadata": {},
     "output_type": "execute_result"
    }
   ],
   "source": [
    "# Calculate the final tumor volume of each mouse across four of the most promising treatment regimens. \n",
    "final_tum_size = pd.concat([stat_1, stat_2, stat_3, stat_5])\n",
    "final_tum_size = final_tum_size.groupby(\"Drug Regimen\")\n",
    "final_tum_size.head()"
   ]
  },
  {
   "cell_type": "code",
   "execution_count": 46,
   "metadata": {},
   "outputs": [
    {
     "name": "stdout",
     "output_type": "stream",
     "text": [
      "Capomulin IQR is 7.78\n",
      "The outlier boundaries for Capomulin is below 20.7 and above 51.83\n",
      " \n",
      "Ramicane IQR is 7.53\n",
      "The outlier boundaries for Ramicane is below 19.69 and above 49.8\n",
      " \n",
      "Ceftamin IQR is 6.09\n",
      "The outlier boundaries for Ceftamin is below 52.29 and above 76.67\n",
      " \n",
      "Infubinol IQR is 4.93\n",
      "The outlier boundaries for Infubinol is below 55.36 and above 75.08\n"
     ]
    }
   ],
   "source": [
    "\n",
    "# Calculating the IQR \n",
    "#finding the quartile range values\n",
    "cap_iqr_25 = final_tum_size.get_group(\"Capomulin\").quantile(.25)\n",
    "cap_iqr_50 = final_tum_size.get_group(\"Capomulin\").quantile(.5)\n",
    "cap_iqr_75 = final_tum_size.get_group(\"Capomulin\").quantile(.75)\n",
    "\n",
    "#calculating the IQR\n",
    "cap_iqr = (cap_iqr_75[0] - cap_iqr_25[0])\n",
    "\n",
    "#finding the IQR outlier boundaries\n",
    "low_iqr_cap = (cap_iqr_25[0] - cap_iqr*1.5)\n",
    "high_iqr_cap = (cap_iqr_75[0] + cap_iqr*1.5)\n",
    "\n",
    "print(\"Capomulin IQR is\", round(cap_iqr, 2))\n",
    "print(\"The outlier boundaries for Capomulin is below\", round(low_iqr_cap, 2), \"and above\", round(high_iqr_cap, 2))\n",
    "\n",
    "#repeat for Ramicane\n",
    "ram_iqr_25 = final_tum_size.get_group(\"Ramicane\").quantile(.25)\n",
    "ram_iqr_50 = final_tum_size.get_group(\"Ramicane\").quantile(.5)\n",
    "ram_iqr_75 = final_tum_size.get_group(\"Ramicane\").quantile(.75)\n",
    "ram_iqr = (ram_iqr_75[0] - ram_iqr_25[0])\n",
    "low_iqr_ram = (ram_iqr_25[0] - ram_iqr*1.5)\n",
    "high_iqr_ram = (ram_iqr_75[0] + ram_iqr*1.5)\n",
    "print(\" \")\n",
    "print(\"Ramicane IQR is\", round(ram_iqr, 2))\n",
    "print(\"The outlier boundaries for Ramicane is below\", round(low_iqr_ram, 2), \"and above\", round(high_iqr_ram, 2))\n",
    "\n",
    "#repeat for Ceftamin\n",
    "cef_iqr_25 = final_tum_size.get_group(\"Ceftamin\").quantile(.25)\n",
    "cef_iqr_50 = final_tum_size.get_group(\"Ceftamin\").quantile(.5)\n",
    "cef_iqr_75 = final_tum_size.get_group(\"Ceftamin\").quantile(.75)\n",
    "cef_iqr = (cef_iqr_75[0] - cef_iqr_25[0])\n",
    "low_iqr_cef = (cef_iqr_25[0] - cef_iqr*1.5)\n",
    "high_iqr_cef = (cef_iqr_75[0] + cef_iqr*1.5)\n",
    "print(\" \")\n",
    "print(\"Ceftamin IQR is\", round(cef_iqr, 2))\n",
    "print(\"The outlier boundaries for Ceftamin is below\", round(low_iqr_cef, 2), \"and above\", round(high_iqr_cef, 2))\n",
    "\n",
    "#repeat for Infubinol\n",
    "inf_iqr_25 = final_tum_size.get_group(\"Infubinol\").quantile(.25)\n",
    "inf_iqr_50 = final_tum_size.get_group(\"Infubinol\").quantile(.5)\n",
    "inf_iqr_75 = final_tum_size.get_group(\"Infubinol\").quantile(.75)\n",
    "inf_iqr = (inf_iqr_75[0] - inf_iqr_25[0])\n",
    "low_iqr_inf = (inf_iqr_25[0] - inf_iqr*1.5)\n",
    "high_iqr_inf = (inf_iqr_75[0] + inf_iqr*1.5)\n",
    "print(\" \")\n",
    "print(\"Infubinol IQR is\", round(inf_iqr, 2))\n",
    "print(\"The outlier boundaries for Infubinol is below\", round(low_iqr_inf, 2), \"and above\", round(high_iqr_inf, 2))"
   ]
  },
  {
   "cell_type": "code",
   "execution_count": 47,
   "metadata": {},
   "outputs": [
    {
     "name": "stdout",
     "output_type": "stream",
     "text": [
      "Number of outliers in Capomulin:  0\n",
      "Number of outliers in Ramicane:  0\n",
      "Number of outliers in Ceftamin:  0\n",
      "Number of outliers in Infubinol:  0\n"
     ]
    }
   ],
   "source": [
    "#Testing to see if there are any values outside of outlier range, check printed output below for results\n",
    "cap_out_df = final_tum_size.get_group(\"Capomulin\")\n",
    "cap_outlow_df = cap_out_df.loc[cap_out_df[\"Tumor Volume (mm3)\"] < low_iqr_cap, :]\n",
    "cap_outhigh_df = cap_out_df.loc[cap_out_df[\"Tumor Volume (mm3)\"] > high_iqr_cap, :]\n",
    "cap_out_df_result = pd.concat([cap_outlow_df, cap_outhigh_df])\n",
    "print(\"Number of outliers in Capomulin: \", cap_out_df_result[\"Mouse ID\"].count())\n",
    "\n",
    "ram_out_df = final_tum_size.get_group(\"Ramicane\")\n",
    "ram_outlow_df = ram_out_df.loc[ram_out_df[\"Tumor Volume (mm3)\"] < low_iqr_ram, :]\n",
    "ram_outhigh_df = ram_out_df.loc[ram_out_df[\"Tumor Volume (mm3)\"] > high_iqr_ram, :]\n",
    "ram_out_df_result = pd.concat([ram_outlow_df, ram_outhigh_df])\n",
    "print(\"Number of outliers in Ramicane: \", ram_out_df_result[\"Mouse ID\"].count())\n",
    "\n",
    "cef_out_df = final_tum_size.get_group(\"Ceftamin\")\n",
    "cef_outlow_df = cef_out_df.loc[cef_out_df[\"Tumor Volume (mm3)\"] < low_iqr_cef, :]\n",
    "cef_outhigh_df = cef_out_df.loc[cef_out_df[\"Tumor Volume (mm3)\"] > high_iqr_cef, :]\n",
    "cef_out_df_result = pd.concat([cef_outlow_df, cef_outhigh_df])\n",
    "print(\"Number of outliers in Ceftamin: \", cef_out_df_result[\"Mouse ID\"].count())\n",
    "\n",
    "inf_out_df = final_tum_size.get_group(\"Infubinol\")\n",
    "inf_outlow_df = inf_out_df.loc[inf_out_df[\"Tumor Volume (mm3)\"] < low_iqr_inf, :]\n",
    "inf_outhigh_df = inf_out_df.loc[inf_out_df[\"Tumor Volume (mm3)\"] > high_iqr_inf, :]\n",
    "inf_out_df_result = pd.concat([inf_outlow_df, inf_outhigh_df])\n",
    "print(\"Number of outliers in Infubinol: \", inf_out_df_result[\"Mouse ID\"].count())\n",
    "\n",
    "\n",
    "#quantitatively determining if there are any potential outliers. "
   ]
  },
  {
   "cell_type": "code",
   "execution_count": 48,
   "metadata": {},
   "outputs": [
    {
     "data": {
      "text/plain": [
       "([<matplotlib.axis.XTick at 0x197be09fa48>,\n",
       "  <matplotlib.axis.XTick at 0x197be09fd88>,\n",
       "  <matplotlib.axis.XTick at 0x197be15cd88>,\n",
       "  <matplotlib.axis.XTick at 0x197be0ecb08>],\n",
       " <a list of 4 Text xticklabel objects>)"
      ]
     },
     "execution_count": 48,
     "metadata": {},
     "output_type": "execute_result"
    },
    {
     "data": {
      "image/png": "[encoded data removed]",
      "text/plain": [
       "<Figure size 432x288 with 1 Axes>"
      ]
     },
     "metadata": {
      "needs_background": "light"
     },
     "output_type": "display_data"
    }
   ],
   "source": [
    "# Generate a box plot of the final tumor volume of each mouse across four regimens of interest\n",
    "data = [stat_1[\"Tumor Volume (mm3)\"], stat_2[\"Tumor Volume (mm3)\"], stat_3[\"Tumor Volume (mm3)\"], stat_5[\"Tumor Volume (mm3)\"]]\n",
    "drugs = (regimen_list[0], regimen_list[1], regimen_list[2], regimen_list[4])\n",
    "plt.boxplot(data)\n",
    "\n",
    "tick_locations = [1, 2, 3, 4]\n",
    "\n",
    "plt.boxplot(data)\n",
    "plt.xlabel(\"Drug Regimen\")\n",
    "plt.ylabel(\"Tumor Volume (mm3)\")\n",
    "plt.title(\"Tumour Volume data per Drug Regimen\")\n",
    "plt.xticks(tick_locations, drugs)"
   ]
  },
  {
   "cell_type": "code",
   "execution_count": 49,
   "metadata": {},
   "outputs": [
    {
     "data": {
      "text/plain": [
       "(20, 50)"
      ]
     },
     "execution_count": 49,
     "metadata": {},
     "output_type": "execute_result"
    },
    {
     "data": {
      "image/png": "[encoded data removed]",
      "text/plain": [
       "<Figure size 432x288 with 1 Axes>"
      ]
     },
     "metadata": {
      "needs_background": "light"
     },
     "output_type": "display_data"
    }
   ],
   "source": [
    "# Generate a line plot of time point versus tumor volume for a mouse treated with Capomulin\n",
    "s185_df = data_df.copy()\n",
    "id_s185_df = s185_df.groupby(\"Mouse ID\")\n",
    "s185_df = s185_df.loc[s185_df[\"Mouse ID\"] == \"s185\", :]\n",
    "s185_df = s185_df[[\"Mouse ID\", \"Timepoint\", \"Tumor Volume (mm3)\"]]\n",
    "\n",
    "x_axis = s185_df[\"Timepoint\"]\n",
    "y_axis = s185_df[\"Tumor Volume (mm3)\"]\n",
    "\n",
    "plt.plot(x_axis, y_axis)\n",
    "plt.xlabel(\"Time Point (Days)\")\n",
    "plt.ylabel(\"Tumor Size (mm3)\")\n",
    "plt.title(\"Tumor Progress for Mouse ID: s185 (Capomulin)\")\n",
    "plt.xlim(-5, 50)\n",
    "plt.ylim(20, 50)"
   ]
  },
  {
   "cell_type": "code",
   "execution_count": 50,
   "metadata": {},
   "outputs": [
    {
     "data": {
      "text/plain": [
       "Text(0, 0.5, 'Weight (g)')"
      ]
     },
     "execution_count": 50,
     "metadata": {},
     "output_type": "execute_result"
    },
    {
     "data": {
      "image/png": "[encoded data removed]",
      "text/plain": [
       "<Figure size 432x288 with 1 Axes>"
      ]
     },
     "metadata": {
      "needs_background": "light"
     },
     "output_type": "display_data"
    }
   ],
   "source": [
    "# Generate a scatter plot of mouse weight versus average tumor volume for the Capomulin regimen\n",
    "x_vol = []\n",
    "y_wei = [15, 17, 19, 20, 21, 22, 23, 24, 25]\n",
    "\n",
    "scat_df = data_df.copy()\n",
    "scat_group_df = scat_df.groupby(\"Weight (g)\")\n",
    "x_vol.append(scat_group_df[\"Tumor Volume (mm3)\"].get_group(15).mean())\n",
    "x_vol.append(scat_group_df[\"Tumor Volume (mm3)\"].get_group(17).mean())\n",
    "x_vol.append(scat_group_df[\"Tumor Volume (mm3)\"].get_group(19).mean())\n",
    "x_vol.append(scat_group_df[\"Tumor Volume (mm3)\"].get_group(20).mean())\n",
    "x_vol.append(scat_group_df[\"Tumor Volume (mm3)\"].get_group(21).mean())\n",
    "x_vol.append(scat_group_df[\"Tumor Volume (mm3)\"].get_group(22).mean())\n",
    "x_vol.append(scat_group_df[\"Tumor Volume (mm3)\"].get_group(23).mean())\n",
    "x_vol.append(scat_group_df[\"Tumor Volume (mm3)\"].get_group(24).mean())\n",
    "x_vol.append(scat_group_df[\"Tumor Volume (mm3)\"].get_group(25).mean())\n",
    "\n",
    "scatter_df = pd.DataFrame({\n",
    "    \"Average Tumour Volume (mm3)\": [x_vol[0], x_vol[1], x_vol[2], x_vol[3], x_vol[4], x_vol[5], x_vol[6], x_vol[7], x_vol[8]],\n",
    "    \"Weight (g)\": [y_wei[0], y_wei[1], y_wei[2], y_wei[3], y_wei[4], y_wei[5], y_wei[6], y_wei[7], y_wei[8]]})\n",
    "\n",
    "scatter_df.plot.scatter(x=\"Average Tumour Volume (mm3)\", y=\"Weight (g)\")\n",
    "plt.title(\"Capomulin Average Tumor size (mm3) versus Weight (g)\")\n",
    "plt.xlabel(\"Average Tumour Volume (mm3)\")\n",
    "plt.ylabel(\"Weight (g)\")"
   ]
  },
  {
   "cell_type": "code",
   "execution_count": 51,
   "metadata": {},
   "outputs": [
    {
     "name": "stdout",
     "output_type": "stream",
     "text": [
      "The Pearson 'R' Correlation is: 0.9199829616750589\n"
     ]
    }
   ],
   "source": [
    "#correlation coefficient for mouse weight and average tumor volume and for the Capomulin regimen\n",
    "\n",
    "scat_df_corr = scatter_df.corr()\n",
    "scat_df_corr\n",
    "print(\"The Pearson 'R' Correlation is:\",st.pearsonr(scatter_df[\"Average Tumour Volume (mm3)\"], scatter_df[\"Weight (g)\"])[0])"
   ]
  },
  {
   "cell_type": "code",
   "execution_count": 52,
   "metadata": {},
   "outputs": [
    {
     "data": {
      "image/png": "[encoded data removed]",
      "text/plain": [
       "<Figure size 432x288 with 1 Axes>"
      ]
     },
     "metadata": {
      "needs_background": "light"
     },
     "output_type": "display_data"
    }
   ],
   "source": [
    "#linear regression model for mouse weight and average tumor volume for the Capomulin regimen\n",
    "y_values = scatter_df[\"Weight (g)\"]\n",
    "x_values = scatter_df[\"Average Tumour Volume (mm3)\"]\n",
    "(slope, intercept, rvalue, pvvalue, stderr) = linregress (x_values, y_values)\n",
    "regress_values = x_values * slope + intercept\n",
    "line_eq = \"y = \" + str(round(slope,2)) + \"x + \" + str(round(intercept,2))\n",
    "plt.scatter(x_values, y_values)\n",
    "plt.plot(x_values, regress_values, \"r-\")\n",
    "plt.annotate(line_eq,(42.5, 18), fontsize=20, color=\"red\")\n",
    "plt.ylabel(\"Weight (g)\")\n",
    "plt.xlabel(\"Average Tumour Size (mm3)\")\n",
    "plt.title(\"Average Tumour Size (mm3) grouped by Weight (g)\")\n",
    "plt.show()"
   ]
  }
 ],
 "metadata": {
  "kernelspec": {
   "display_name": "Python 3",
   "language": "python",
   "name": "python3"
  },
  "language_info": {
   "codemirror_mode": {
    "name": "ipython",
    "version": 3
   },
   "file_extension": ".py",
   "mimetype": "text/x-python",
   "name": "python",
   "nbconvert_exporter": "python",
   "pygments_lexer": "ipython3",
   "version": "3.7.4"
  }
 },
 "nbformat": 4,
 "nbformat_minor": 2
}
